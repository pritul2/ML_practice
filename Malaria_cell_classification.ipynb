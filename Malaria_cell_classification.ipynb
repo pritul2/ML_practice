{
  "nbformat": 4,
  "nbformat_minor": 0,
  "metadata": {
    "colab": {
      "name": "Malaria_cell_classification",
      "provenance": [],
      "authorship_tag": "ABX9TyPS7sOHtcjlSXPu5sOo6G0d",
      "include_colab_link": true
    },
    "kernelspec": {
      "name": "python3",
      "display_name": "Python 3"
    },
    "accelerator": "GPU"
  },
  "cells": [
    {
      "cell_type": "markdown",
      "metadata": {
        "id": "view-in-github",
        "colab_type": "text"
      },
      "source": [
        "<a href=\"https://colab.research.google.com/github/pritul2/ML_practice/blob/master/Malaria_cell_classification.ipynb\" target=\"_parent\"><img src=\"https://colab.research.google.com/assets/colab-badge.svg\" alt=\"Open In Colab\"/></a>"
      ]
    },
    {
      "cell_type": "code",
      "metadata": {
        "id": "BWpiHQUYeU_L",
        "colab_type": "code",
        "outputId": "8c569462-468e-4e8a-e5bf-3d5972e198f2",
        "colab": {
          "base_uri": "https://localhost:8080/",
          "height": 221
        }
      },
      "source": [
        "!wget ftp://lhcftp.nlm.nih.gov/Open-Access-Datasets/Malaria/cell_images.zip"
      ],
      "execution_count": 170,
      "outputs": [
        {
          "output_type": "stream",
          "text": [
            "--2020-03-02 12:01:14--  ftp://lhcftp.nlm.nih.gov/Open-Access-Datasets/Malaria/cell_images.zip\n",
            "           => ‘cell_images.zip.1’\n",
            "Resolving lhcftp.nlm.nih.gov (lhcftp.nlm.nih.gov)... 130.14.55.35, 2607:f220:41e:7055::35\n",
            "Connecting to lhcftp.nlm.nih.gov (lhcftp.nlm.nih.gov)|130.14.55.35|:21... connected.\n",
            "Logging in as anonymous ... Logged in!\n",
            "==> SYST ... done.    ==> PWD ... done.\n",
            "==> TYPE I ... done.  ==> CWD (1) /Open-Access-Datasets/Malaria ... done.\n",
            "==> SIZE cell_images.zip ... 353452851\n",
            "==> PASV ... done.    ==> RETR cell_images.zip ... done.\n",
            "Length: 353452851 (337M) (unauthoritative)\n",
            "\n",
            "cell_images.zip.1    30%[=====>              ] 103.66M  31.9MB/s    eta 9s     ^C\n"
          ],
          "name": "stdout"
        }
      ]
    },
    {
      "cell_type": "code",
      "metadata": {
        "id": "rAWdtJZGeb2a",
        "colab_type": "code",
        "outputId": "88410fa7-1b58-4e63-d6b7-49d590a9ced5",
        "colab": {
          "base_uri": "https://localhost:8080/",
          "height": 51
        }
      },
      "source": [
        "!unzip /content/cell_images.zip"
      ],
      "execution_count": 171,
      "outputs": [
        {
          "output_type": "stream",
          "text": [
            "Archive:  /content/cell_images.zip\n",
            "replace cell_images/Parasitized/C100P61ThinF_IMG_20150918_144104_cell_162.png? [y]es, [n]o, [A]ll, [N]one, [r]ename: "
          ],
          "name": "stdout"
        }
      ]
    },
    {
      "cell_type": "code",
      "metadata": {
        "id": "uF2ubGdkej9k",
        "colab_type": "code",
        "colab": {}
      },
      "source": [
        "import os\n",
        "infected = os.listdir('/content/cell_images/Parasitized/') \n",
        "uninfected = os.listdir('/content/cell_images/Uninfected/')"
      ],
      "execution_count": 0,
      "outputs": []
    },
    {
      "cell_type": "code",
      "metadata": {
        "id": "GHbuDNhaerZN",
        "colab_type": "code",
        "colab": {}
      },
      "source": [
        "import matplotlib.pyplot as plt\n",
        "import cv2\n",
        "IMAGE_SIZE = 64\n",
        "dataset = []\n",
        "label = []\n",
        "for i in infected:\n",
        "  try:\n",
        "    img = cv2.imread(\"/content/cell_images/Parasitized/\"+i)\n",
        "    dataset.append(cv2.resize(img,(IMAGE_SIZE,IMAGE_SIZE)))\n",
        "    label.append(1)\n",
        "  except:\n",
        "    break\n",
        "for i in uninfected:\n",
        "  try:\n",
        "    img = cv2.imread(\"/content/cell_images/Uninfected/\"+i)\n",
        "    dataset.append(cv2.resize(img,(IMAGE_SIZE,IMAGE_SIZE)))\n",
        "    label.append(0)\n",
        "  except:\n",
        "    break"
      ],
      "execution_count": 0,
      "outputs": []
    },
    {
      "cell_type": "code",
      "metadata": {
        "id": "VdxYoTpmgLUt",
        "colab_type": "code",
        "colab": {}
      },
      "source": [
        "\n",
        "import keras\n",
        "from keras.models import Sequential\n",
        "from keras.layers import Conv2D, MaxPooling2D,BatchNormalization,Dropout,Flatten,Dense,AveragePooling2D\n",
        "import os\n",
        "import tensorflow as tf\n",
        "os.environ['KERAS_BACKEND']='tensorflow'\n",
        "\n",
        "keras.backend.get_session().run(tf.local_variables_initializer())\n",
        "model = None\n",
        "model = Sequential()\n",
        "\n",
        "for i in range(2): #2 CNN layers#\n",
        "\tmodel.add(Conv2D(32,(3,3),padding = \"same\",data_format=\"channels_last\",activation=\"relu\",input_shape=(IMAGE_SIZE,IMAGE_SIZE,3)))\n",
        "\tmodel.add(MaxPooling2D(pool_size=(2,2),strides=None,padding=\"same\",data_format=\"channels_last\"))\n",
        "\tmodel.add(BatchNormalization()) #Using all default values#\n",
        "\tmodel.add(Dropout(rate=0.1)) #20% probability#\n",
        "\n",
        "#Adding Dense Layers#\n",
        "model.add(Flatten())\n",
        "\n",
        "model.add(Dense(512,activation=\"relu\"))\n",
        "model.add(BatchNormalization())\n",
        "model.add(Dropout(rate=0.2))\n",
        "\n",
        "model.add(Dense(256,activation=\"relu\"))\n",
        "model.add(BatchNormalization())\n",
        "model.add(Dropout(rate=0.2))\n",
        "\n",
        "model.add(Dense(2,activation=\"softmax\"))\n",
        "#model.add(BatchNormalization())\n",
        "#model.add(Dropout(rate=0.2))\n",
        "\n",
        "model.compile(\"adam\", \"categorical_crossentropy\",metrics=['accuracy'])"
      ],
      "execution_count": 0,
      "outputs": []
    },
    {
      "cell_type": "code",
      "metadata": {
        "id": "yowmVuCGnxkM",
        "colab_type": "code",
        "colab": {
          "base_uri": "https://localhost:8080/",
          "height": 697
        },
        "outputId": "fbf71213-68bc-4880-e22a-ea4b4dc3a374"
      },
      "source": [
        "model.summary()"
      ],
      "execution_count": 175,
      "outputs": [
        {
          "output_type": "stream",
          "text": [
            "Model: \"sequential_21\"\n",
            "_________________________________________________________________\n",
            "Layer (type)                 Output Shape              Param #   \n",
            "=================================================================\n",
            "conv2d_65 (Conv2D)           (None, 64, 64, 32)        896       \n",
            "_________________________________________________________________\n",
            "max_pooling2d_57 (MaxPooling (None, 32, 32, 32)        0         \n",
            "_________________________________________________________________\n",
            "batch_normalization_88 (Batc (None, 32, 32, 32)        128       \n",
            "_________________________________________________________________\n",
            "dropout_121 (Dropout)        (None, 32, 32, 32)        0         \n",
            "_________________________________________________________________\n",
            "conv2d_66 (Conv2D)           (None, 32, 32, 32)        9248      \n",
            "_________________________________________________________________\n",
            "max_pooling2d_58 (MaxPooling (None, 16, 16, 32)        0         \n",
            "_________________________________________________________________\n",
            "batch_normalization_89 (Batc (None, 16, 16, 32)        128       \n",
            "_________________________________________________________________\n",
            "dropout_122 (Dropout)        (None, 16, 16, 32)        0         \n",
            "_________________________________________________________________\n",
            "flatten_21 (Flatten)         (None, 8192)              0         \n",
            "_________________________________________________________________\n",
            "dense_61 (Dense)             (None, 512)               4194816   \n",
            "_________________________________________________________________\n",
            "batch_normalization_90 (Batc (None, 512)               2048      \n",
            "_________________________________________________________________\n",
            "dropout_123 (Dropout)        (None, 512)               0         \n",
            "_________________________________________________________________\n",
            "dense_62 (Dense)             (None, 256)               131328    \n",
            "_________________________________________________________________\n",
            "batch_normalization_91 (Batc (None, 256)               1024      \n",
            "_________________________________________________________________\n",
            "dropout_124 (Dropout)        (None, 256)               0         \n",
            "_________________________________________________________________\n",
            "dense_63 (Dense)             (None, 2)                 514       \n",
            "=================================================================\n",
            "Total params: 4,340,130\n",
            "Trainable params: 4,338,466\n",
            "Non-trainable params: 1,664\n",
            "_________________________________________________________________\n"
          ],
          "name": "stdout"
        }
      ]
    },
    {
      "cell_type": "code",
      "metadata": {
        "id": "w3VtWPFV4h50",
        "colab_type": "code",
        "colab": {
          "base_uri": "https://localhost:8080/",
          "height": 51
        },
        "outputId": "c333a6d5-dad0-480d-ce59-ac394b02fe12"
      },
      "source": [
        "dataset = np.array(dataset)\n",
        "label = np.array(label)\n",
        "print(dataset.shape)\n",
        "print(label.shape)"
      ],
      "execution_count": 176,
      "outputs": [
        {
          "output_type": "stream",
          "text": [
            "(16983, 64, 64, 3)\n",
            "(16983,)\n"
          ],
          "name": "stdout"
        }
      ]
    },
    {
      "cell_type": "code",
      "metadata": {
        "id": "phyZ2CkJtEwg",
        "colab_type": "code",
        "colab": {
          "base_uri": "https://localhost:8080/",
          "height": 51
        },
        "outputId": "1455fcdb-55d2-463e-ad24-6018a0b72870"
      },
      "source": [
        "from sklearn.model_selection import train_test_split\n",
        "from keras.utils import to_categorical\n",
        "trainX,testX,trainY,testY = train_test_split(dataset,to_categorical((label)),train_size=0.6)\n",
        "print(trainX.shape)\n",
        "print(testX.shape)"
      ],
      "execution_count": 177,
      "outputs": [
        {
          "output_type": "stream",
          "text": [
            "(10189, 64, 64, 3)\n",
            "(6794, 64, 64, 3)\n"
          ],
          "name": "stdout"
        }
      ]
    },
    {
      "cell_type": "code",
      "metadata": {
        "id": "1HPX7IMIzAZs",
        "colab_type": "code",
        "colab": {
          "base_uri": "https://localhost:8080/",
          "height": 1000
        },
        "outputId": "de2c8df9-41e1-4ecc-84ee-363b7a9c4d88"
      },
      "source": [
        "import numpy as np\n",
        "from keras.callbacks import LearningRateScheduler, ModelCheckpoint\n",
        "weight_saver = ModelCheckpoint('malaria.h5', monitor='val_dice_coef', \n",
        "                                              save_best_only=True, save_weights_only=True)\n",
        "annealer = LearningRateScheduler(lambda x: 1e-3 * 0.8 ** x)\n",
        "hist = model.fit(trainX,trainY, batch_size=100, epochs=50,verbose=1)"
      ],
      "execution_count": 179,
      "outputs": [
        {
          "output_type": "stream",
          "text": [
            "Epoch 1/50\n",
            "10189/10189 [==============================] - 8s 781us/step - loss: 0.6838 - acc: 0.6826\n",
            "Epoch 2/50\n",
            "10189/10189 [==============================] - 2s 166us/step - loss: 0.3276 - acc: 0.8635\n",
            "Epoch 3/50\n",
            "10189/10189 [==============================] - 2s 177us/step - loss: 0.2379 - acc: 0.9091\n",
            "Epoch 4/50\n",
            "10189/10189 [==============================] - 2s 178us/step - loss: 0.1908 - acc: 0.9290\n",
            "Epoch 5/50\n",
            "10189/10189 [==============================] - 2s 164us/step - loss: 0.1594 - acc: 0.9433\n",
            "Epoch 6/50\n",
            "10189/10189 [==============================] - 2s 168us/step - loss: 0.1367 - acc: 0.9493\n",
            "Epoch 7/50\n",
            "10189/10189 [==============================] - 2s 170us/step - loss: 0.1209 - acc: 0.9557\n",
            "Epoch 8/50\n",
            "10189/10189 [==============================] - 2s 168us/step - loss: 0.0978 - acc: 0.9633\n",
            "Epoch 9/50\n",
            "10189/10189 [==============================] - 2s 169us/step - loss: 0.0809 - acc: 0.9709\n",
            "Epoch 10/50\n",
            "10189/10189 [==============================] - 2s 165us/step - loss: 0.0665 - acc: 0.9764\n",
            "Epoch 11/50\n",
            "10189/10189 [==============================] - 2s 179us/step - loss: 0.0689 - acc: 0.9745\n",
            "Epoch 12/50\n",
            "10189/10189 [==============================] - 2s 178us/step - loss: 0.0639 - acc: 0.9761\n",
            "Epoch 13/50\n",
            "10189/10189 [==============================] - 2s 173us/step - loss: 0.0510 - acc: 0.9808\n",
            "Epoch 14/50\n",
            "10189/10189 [==============================] - 2s 173us/step - loss: 0.0386 - acc: 0.9866\n",
            "Epoch 15/50\n",
            "10189/10189 [==============================] - 2s 178us/step - loss: 0.0326 - acc: 0.9883\n",
            "Epoch 16/50\n",
            "10189/10189 [==============================] - 2s 178us/step - loss: 0.0335 - acc: 0.9879\n",
            "Epoch 17/50\n",
            "10189/10189 [==============================] - 2s 177us/step - loss: 0.0346 - acc: 0.9873\n",
            "Epoch 18/50\n",
            "10189/10189 [==============================] - 2s 177us/step - loss: 0.0247 - acc: 0.9906\n",
            "Epoch 19/50\n",
            "10189/10189 [==============================] - 2s 174us/step - loss: 0.0249 - acc: 0.9910\n",
            "Epoch 20/50\n",
            "10189/10189 [==============================] - 2s 184us/step - loss: 0.0208 - acc: 0.9935\n",
            "Epoch 21/50\n",
            "10189/10189 [==============================] - 2s 177us/step - loss: 0.0274 - acc: 0.9900\n",
            "Epoch 22/50\n",
            "10189/10189 [==============================] - 2s 178us/step - loss: 0.0246 - acc: 0.9912\n",
            "Epoch 23/50\n",
            "10189/10189 [==============================] - 2s 178us/step - loss: 0.0217 - acc: 0.9925\n",
            "Epoch 24/50\n",
            "10189/10189 [==============================] - 2s 175us/step - loss: 0.0209 - acc: 0.9931\n",
            "Epoch 25/50\n",
            "10189/10189 [==============================] - 2s 174us/step - loss: 0.0152 - acc: 0.9946\n",
            "Epoch 26/50\n",
            "10189/10189 [==============================] - 2s 171us/step - loss: 0.0122 - acc: 0.9966\n",
            "Epoch 27/50\n",
            "10189/10189 [==============================] - 2s 172us/step - loss: 0.0122 - acc: 0.9957\n",
            "Epoch 28/50\n",
            "10189/10189 [==============================] - 2s 186us/step - loss: 0.0174 - acc: 0.9941\n",
            "Epoch 29/50\n",
            "10189/10189 [==============================] - 2s 178us/step - loss: 0.0175 - acc: 0.9935\n",
            "Epoch 30/50\n",
            "10189/10189 [==============================] - 2s 178us/step - loss: 0.0259 - acc: 0.9897\n",
            "Epoch 31/50\n",
            "10189/10189 [==============================] - 2s 169us/step - loss: 0.0135 - acc: 0.9956\n",
            "Epoch 32/50\n",
            "10189/10189 [==============================] - 2s 175us/step - loss: 0.0098 - acc: 0.9966\n",
            "Epoch 33/50\n",
            "10189/10189 [==============================] - 2s 169us/step - loss: 0.0081 - acc: 0.9979\n",
            "Epoch 34/50\n",
            "10189/10189 [==============================] - 2s 168us/step - loss: 0.0075 - acc: 0.9974\n",
            "Epoch 35/50\n",
            "10189/10189 [==============================] - 2s 167us/step - loss: 0.0100 - acc: 0.9965\n",
            "Epoch 36/50\n",
            "10189/10189 [==============================] - 2s 169us/step - loss: 0.0160 - acc: 0.9942\n",
            "Epoch 37/50\n",
            "10189/10189 [==============================] - 2s 166us/step - loss: 0.0106 - acc: 0.9970\n",
            "Epoch 38/50\n",
            "10189/10189 [==============================] - 2s 168us/step - loss: 0.0139 - acc: 0.9955\n",
            "Epoch 39/50\n",
            "10189/10189 [==============================] - 2s 166us/step - loss: 0.0110 - acc: 0.9964\n",
            "Epoch 40/50\n",
            "10189/10189 [==============================] - 2s 165us/step - loss: 0.0137 - acc: 0.9952\n",
            "Epoch 41/50\n",
            "10189/10189 [==============================] - 2s 167us/step - loss: 0.0111 - acc: 0.9970\n",
            "Epoch 42/50\n",
            "10189/10189 [==============================] - 2s 170us/step - loss: 0.0149 - acc: 0.9956\n",
            "Epoch 43/50\n",
            "10189/10189 [==============================] - 2s 168us/step - loss: 0.0162 - acc: 0.9941\n",
            "Epoch 44/50\n",
            "10189/10189 [==============================] - 2s 167us/step - loss: 0.0090 - acc: 0.9968\n",
            "Epoch 45/50\n",
            "10189/10189 [==============================] - 2s 169us/step - loss: 0.0102 - acc: 0.9972\n",
            "Epoch 46/50\n",
            "10189/10189 [==============================] - 2s 169us/step - loss: 0.0069 - acc: 0.9981\n",
            "Epoch 47/50\n",
            "10189/10189 [==============================] - 2s 169us/step - loss: 0.0081 - acc: 0.9975\n",
            "Epoch 48/50\n",
            "10189/10189 [==============================] - 2s 168us/step - loss: 0.0127 - acc: 0.9965\n",
            "Epoch 49/50\n",
            "10189/10189 [==============================] - 2s 168us/step - loss: 0.0074 - acc: 0.9971\n",
            "Epoch 50/50\n",
            "10189/10189 [==============================] - 2s 167us/step - loss: 0.0050 - acc: 0.9985\n"
          ],
          "name": "stdout"
        }
      ]
    },
    {
      "cell_type": "code",
      "metadata": {
        "id": "khK4su8tzgql",
        "colab_type": "code",
        "colab": {
          "base_uri": "https://localhost:8080/",
          "height": 530
        },
        "outputId": "962333c1-25f6-44a9-c572-fa0390147e08"
      },
      "source": [
        "plt.plot(hist.history['loss'], color='b')\n",
        "plt.show()\n",
        "plt.plot(hist.history['acc'], color='b')"
      ],
      "execution_count": 185,
      "outputs": [
        {
          "output_type": "display_data",
          "data": {
            "image/png": "[encoded data removed]",
            "text/plain": [
              "<Figure size 432x288 with 1 Axes>"
            ]
          },
          "metadata": {
            "tags": []
          }
        },
        {
          "output_type": "execute_result",
          "data": {
            "text/plain": [
              "[<matplotlib.lines.Line2D at 0x7f6aa0a88d68>]"
            ]
          },
          "metadata": {
            "tags": []
          },
          "execution_count": 185
        },
        {
          "output_type": "display_data",
          "data": {
            "image/png": "[encoded data removed]",
            "text/plain": [
              "<Figure size 432x288 with 1 Axes>"
            ]
          },
          "metadata": {
            "tags": []
          }
        }
      ]
    },
    {
      "cell_type": "code",
      "metadata": {
        "id": "YmVek7noCaNz",
        "colab_type": "code",
        "colab": {}
      },
      "source": [
        ""
      ],
      "execution_count": 0,
      "outputs": []
    },
    {
      "cell_type": "code",
      "metadata": {
        "id": "y_gSomMX-jZ3",
        "colab_type": "code",
        "colab": {}
      },
      "source": [
        ""
      ],
      "execution_count": 0,
      "outputs": []
    },
    {
      "cell_type": "code",
      "metadata": {
        "id": "lQ0_AMAgB8Fd",
        "colab_type": "code",
        "colab": {}
      },
      "source": [
        ""
      ],
      "execution_count": 0,
      "outputs": []
    }
  ]
}